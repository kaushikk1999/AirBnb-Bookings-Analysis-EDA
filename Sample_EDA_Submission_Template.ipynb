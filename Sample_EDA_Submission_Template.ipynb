{
  "cells": [
    {
      "cell_type": "markdown",
      "metadata": {
        "id": "view-in-github",
        "colab_type": "text"
      },
      "source": [
        "<a href=\"https://colab.research.google.com/github/kaushikk1999/AirBnb-Bookings-Analysis-EDA/blob/main/Sample_EDA_Submission_Template.ipynb\" target=\"_parent\"><img src=\"https://colab.research.google.com/assets/colab-badge.svg\" alt=\"Open In Colab\"/></a>"
      ]
    },
    {
      "cell_type": "markdown",
      "metadata": {
        "id": "vncDsAP0Gaoa"
      },
      "source": [
        "# **Project Name**    - \n",
        "\n"
      ]
    },
    {
      "cell_type": "markdown",
      "metadata": {
        "id": "beRrZCGUAJYm"
      },
      "source": [
        "##### **Project Type**    - EDA\n",
        "##### **Contribution**    - Individual\n",
        "##### **Team Member 1 -**\n",
        "##### **Team Member 2 -**\n",
        "##### **Team Member 3 -**\n",
        "##### **Team Member 4 -**"
      ]
    },
    {
      "cell_type": "markdown",
      "metadata": {
        "id": "FJNUwmbgGyua"
      },
      "source": [
        "# **Project Summary -**"
      ]
    },
    {
      "cell_type": "markdown",
      "metadata": {
        "id": "F6v_1wHtG2nS"
      },
      "source": [
        "\n",
        "Airbnb is an online marketplace connecting travelers with local hosts who offer unique accommodation options. As the popularity of the platform continues to grow, understanding the dynamics of the Airbnb market becomes crucial for hosts and stakeholders to make informed decisions. In this context, the problem is to analyze Airbnb booking data to gain insights into the market trends, such as the demand and supply of accommodations, the most popular types of properties, the peak booking seasons, the pricing patterns, and the factors that influence the booking decisions of guests."
      ]
    },
    {
      "cell_type": "code",
      "source": [
        "from google.colab import drive\n",
        "drive.mount('/content/drive')"
      ],
      "metadata": {
        "id": "1nW7nJwvh4Bh"
      },
      "execution_count": null,
      "outputs": []
    },
    {
      "cell_type": "markdown",
      "metadata": {
        "id": "w6K7xa23Elo4"
      },
      "source": [
        "# **GitHub Link -**"
      ]
    },
    {
      "cell_type": "markdown",
      "metadata": {
        "id": "h1o69JH3Eqqn"
      },
      "source": [
        "Provide your GitHub Link here.\n",
        "https://github.com/kaushikk1999/AirBnb-Bookings-Analysis-EDA.git"
      ]
    },
    {
      "cell_type": "markdown",
      "metadata": {
        "id": "yQaldy8SH6Dl"
      },
      "source": [
        "# **Problem Statement**\n"
      ]
    },
    {
      "cell_type": "markdown",
      "metadata": {
        "id": "DpeJGUA3kjGy"
      },
      "source": [
        "**Write Problem Statement Here.**"
      ]
    },
    {
      "cell_type": "markdown",
      "metadata": {
        "id": "PH-0ReGfmX4f"
      },
      "source": [
        "#### **Define Your Business Objective?**"
      ]
    },
    {
      "cell_type": "markdown",
      "metadata": {
        "id": "PhDvGCAqmjP1"
      },
      "source": [
        "Answer Here.\n",
        "The main objective of Airbnb bookings analysis is to gain insights into the performance of individual listings and the Airbnb platform as a whole. This analysis can help hosts optimize their listings, improve customer satisfaction, and ultimately increase revenue. It can also help Airbnb make strategic decisions about its business, such as where to invest in new markets or how to improve its platform."
      ]
    },
    {
      "cell_type": "markdown",
      "metadata": {
        "id": "mDgbUHAGgjLW"
      },
      "source": [
        "# **General Guidelines** : -  "
      ]
    },
    {
      "cell_type": "markdown",
      "metadata": {
        "id": "ZrxVaUj-hHfC"
      },
      "source": [
        "1.   Well-structured, formatted, and commented code is required. \n",
        "2.   Exception Handling, Production Grade Code & Deployment Ready Code will be a plus. Those students will be awarded some additional credits. \n",
        "     \n",
        "     The additional credits will have advantages over other students during Star Student selection.\n",
        "       \n",
        "             [ Note: - Deployment Ready Code is defined as, the whole .ipynb notebook should be executable in one go\n",
        "                       without a single error logged. ]\n",
        "\n",
        "3.   Each and every logic should have proper comments.\n",
        "4. You may add as many number of charts you want. Make Sure for each and every chart the following format should be answered.\n",
        "        \n",
        "\n",
        "```\n",
        "# Chart visualization code\n",
        "```\n",
        "            \n",
        "\n",
        "*   Why did you pick the specific chart?\n",
        "*   What is/are the insight(s) found from the chart?\n",
        "* Will the gained insights help creating a positive business impact? \n",
        "Are there any insights that lead to negative growth? Justify with specific reason.\n",
        "\n",
        "5. You have to create at least 20 logical & meaningful charts having important insights.\n",
        "\n",
        "\n",
        "[ Hints : - Do the Vizualization in  a structured way while following \"UBM\" Rule. \n",
        "\n",
        "U - Univariate Analysis,\n",
        "\n",
        "B - Bivariate Analysis (Numerical - Categorical, Numerical - Numerical, Categorical - Categorical)\n",
        "\n",
        "M - Multivariate Analysis\n",
        " ]\n",
        "\n",
        "\n",
        "\n"
      ]
    },
    {
      "cell_type": "markdown",
      "metadata": {
        "id": "O_i_v8NEhb9l"
      },
      "source": [
        "# ***Let's Begin !***"
      ]
    },
    {
      "cell_type": "markdown",
      "metadata": {
        "id": "HhfV-JJviCcP"
      },
      "source": [
        "## ***1. Know Your Data***"
      ]
    },
    {
      "cell_type": "markdown",
      "metadata": {
        "id": "Y3lxredqlCYt"
      },
      "source": [
        "### Import Libraries"
      ]
    },
    {
      "cell_type": "code",
      "execution_count": null,
      "metadata": {
        "id": "M8Vqi-pPk-HR"
      },
      "outputs": [],
      "source": [
        "# Import Libraries\n",
        "import pandas as pd\n",
        "# pandas is aliased as pd\n",
        "import numpy as np\n",
        "# numpy is aliased as np\n",
        "import matplotlib.pyplot as plt\n",
        "# pyplot is aliased as plt\n",
        "import seaborn as sns\n",
        "# seaborn is aliased as sns\n",
        "import folium\n",
        "from folium.plugins import MarkerCluster\n",
        "from folium import plugins\n",
        "from folium.plugins import FastMarkerCluster\n",
        "from folium.plugins import HeatMap\n",
        "from scipy.stats import pearsonr\n"
      ]
    },
    {
      "cell_type": "markdown",
      "metadata": {
        "id": "3RnN4peoiCZX"
      },
      "source": [
        "### Dataset Loading"
      ]
    },
    {
      "cell_type": "code",
      "execution_count": null,
      "metadata": {
        "id": "4CkvbW_SlZ_R"
      },
      "outputs": [],
      "source": [
        "# Load Dataset\n",
        "#df= pd.read_csv(r'Airbnb NYC 2019.csv')\n"
      ]
    },
    {
      "cell_type": "code",
      "source": [
        "path='/content/drive/MyDrive/Airbnb NYC 2019.csv'"
      ],
      "metadata": {
        "id": "lvL8tBo6kB3P"
      },
      "execution_count": null,
      "outputs": []
    },
    {
      "cell_type": "code",
      "source": [
        "df= pd.read_csv(path)"
      ],
      "metadata": {
        "id": "zMVTkzX6kB50"
      },
      "execution_count": null,
      "outputs": []
    },
    {
      "cell_type": "code",
      "source": [],
      "metadata": {
        "id": "CTwT3UyxkB9H"
      },
      "execution_count": null,
      "outputs": []
    },
    {
      "cell_type": "markdown",
      "metadata": {
        "id": "x71ZqKXriCWQ"
      },
      "source": [
        "### Dataset First View"
      ]
    },
    {
      "cell_type": "code",
      "execution_count": null,
      "metadata": {
        "id": "LWNFOSvLl09H"
      },
      "outputs": [],
      "source": [
        "# Dataset First Look\n",
        "df"
      ]
    },
    {
      "cell_type": "markdown",
      "metadata": {
        "id": "7hBIi_osiCS2"
      },
      "source": [
        "### Dataset Rows & Columns count"
      ]
    },
    {
      "cell_type": "code",
      "execution_count": null,
      "metadata": {
        "id": "Kllu7SJgmLij"
      },
      "outputs": [],
      "source": [
        "# Dataset Rows & Columns count\n",
        "df.shape"
      ]
    },
    {
      "cell_type": "markdown",
      "metadata": {
        "id": "JlHwYmJAmNHm"
      },
      "source": [
        "### Dataset Information"
      ]
    },
    {
      "cell_type": "code",
      "execution_count": null,
      "metadata": {
        "id": "e9hRXRi6meOf"
      },
      "outputs": [],
      "source": [
        "# Dataset Info\n",
        "df.info()"
      ]
    },
    {
      "cell_type": "markdown",
      "metadata": {
        "id": "35m5QtbWiB9F"
      },
      "source": [
        "#### Duplicate Values"
      ]
    },
    {
      "cell_type": "code",
      "execution_count": null,
      "metadata": {
        "id": "1sLdpKYkmox0"
      },
      "outputs": [],
      "source": [
        "# Dataset Duplicate Value Count\n",
        "print(df.duplicated().sum())"
      ]
    },
    {
      "cell_type": "markdown",
      "metadata": {
        "id": "PoPl-ycgm1ru"
      },
      "source": [
        "#### Missing Values/Null Values"
      ]
    },
    {
      "cell_type": "code",
      "execution_count": null,
      "metadata": {
        "id": "GgHWkxvamxVg"
      },
      "outputs": [],
      "source": [
        "# Missing Values/Null Values Count\n",
        "df.isnull().sum()"
      ]
    },
    {
      "cell_type": "code",
      "execution_count": null,
      "metadata": {
        "id": "s8__-VMqgDIi"
      },
      "outputs": [],
      "source": [
        "sns.heatmap(df.isnull(), cmap='Reds', cbar=False)\n",
        "\n",
        "# Set the title and display the plot\n",
        "plt.title('Missing Values in AirBnb Bookings Analysis Dataset')\n",
        "plt.show()\n"
      ]
    },
    {
      "cell_type": "markdown",
      "metadata": {
        "id": "H0kj-8xxnORC"
      },
      "source": [
        "### What did you know about your dataset?"
      ]
    },
    {
      "cell_type": "markdown",
      "metadata": {
        "id": "gfoNAAC-nUe_"
      },
      "source": [
        "Answer Here\n",
        "\n",
        "\n",
        "\n",
        "\n",
        "\n",
        "\n",
        "\n",
        "The dataset given is a dataset from AirBnb Bookings Analysis industry\n",
        "This analysis can include a variety of factors such as price, room type, availability, and customer reviews. By analyzing this data, insights can be gained into the performance of individual listings or the Airbnb platform as a whole."
      ]
    },
    {
      "cell_type": "markdown",
      "metadata": {
        "id": "nA9Y7ga8ng1Z"
      },
      "source": [
        "## ***2. Understanding Your Variables***"
      ]
    },
    {
      "cell_type": "code",
      "execution_count": null,
      "metadata": {
        "id": "j7xfkqrt5Ag5"
      },
      "outputs": [],
      "source": [
        "# Dataset Columns\n",
        "df.columns"
      ]
    },
    {
      "cell_type": "code",
      "execution_count": null,
      "metadata": {
        "id": "DnOaZdaE5Q5t"
      },
      "outputs": [],
      "source": [
        "# Dataset Describe\n",
        "df.describe(include='all')"
      ]
    },
    {
      "cell_type": "markdown",
      "metadata": {
        "id": "PBTbrJXOngz2"
      },
      "source": [
        "### Variables Description "
      ]
    },
    {
      "cell_type": "markdown",
      "metadata": {
        "id": "aJV4KIxSnxay"
      },
      "source": [
        "1) id=Unique ID\n",
        "2) name=Name of the listing\n",
        "3) host-id=Unique host-id\n",
        "4) host-name=Name of the host\n",
        "5) neighbourhood_group=location\n",
        "6) neighborhood=area\n",
        "7) latitude=latitude range\n",
        "8) longitude=Longitude range\n",
        "9) room-type=Type of listing\n",
        "10) price=Price of listing\n",
        "11) minimum_nights=Minimum nights to be paid for\n",
        "12) Number-of reviews=Number of reviews\n",
        "13) last-review=Content of the last review\n",
        "14) calculated _host_listing_count=Total count\n",
        "15) vailability_365=Availability around the year"
      ]
    },
    {
      "cell_type": "markdown",
      "metadata": {
        "id": "u3PMJOP6ngxN"
      },
      "source": [
        "### Check Unique Values for each variable."
      ]
    },
    {
      "cell_type": "code",
      "execution_count": null,
      "metadata": {
        "id": "TyRYpFX_gDIk"
      },
      "outputs": [],
      "source": [
        "df.columns"
      ]
    },
    {
      "cell_type": "code",
      "execution_count": null,
      "metadata": {
        "id": "zms12Yq5n-jE"
      },
      "outputs": [],
      "source": [
        "# Check Unique Values for each variable.\n",
        "\n",
        "print(df['id'].unique())\n",
        "print(df['name'].unique())\n",
        "print(df['host_id'].unique())\n",
        "\n",
        "print(df['host_name'].unique())\n",
        "print(df['neighbourhood_group'].unique())\n",
        "\n",
        "print(df['neighbourhood'].unique())\n",
        "print(df['latitude'].unique())\n",
        "print(df['longitude'].unique())\n",
        "\n",
        "print(df['room_type'].unique())\n",
        "print(df['price'].unique())\n",
        "print(df['minimum_nights'].unique())\n",
        "\n",
        "print(df['number_of_reviews'].unique())\n",
        "print(df['last_review'].unique())\n",
        "print(df['reviews_per_month'].unique())\n",
        "\n",
        "print(df['calculated_host_listings_count'].unique())\n",
        "print(df['availability_365'].unique())\n"
      ]
    },
    {
      "cell_type": "code",
      "execution_count": null,
      "metadata": {
        "id": "16fWuTpPgDIk"
      },
      "outputs": [],
      "source": [
        "print(' \\nUnique:\\n',df.nunique())"
      ]
    },
    {
      "cell_type": "code",
      "execution_count": null,
      "metadata": {
        "id": "zS4EJX-MgDIk"
      },
      "outputs": [],
      "source": [
        "Long=-74.01\n",
        "Lat=40.63\n",
        "locations = list(zip(df.latitude, df.longitude))\n",
        "\n",
        "map1 = folium.Map(location=[Lat,Long], zoom_start=9)\n",
        "FastMarkerCluster(data=locations).add_to(map1)\n",
        "map1"
      ]
    },
    {
      "cell_type": "markdown",
      "metadata": {
        "id": "dauF4eBmngu3"
      },
      "source": [
        "## 3. ***Data Wrangling***"
      ]
    },
    {
      "cell_type": "markdown",
      "metadata": {
        "id": "bKJF3rekwFvQ"
      },
      "source": [
        "### Data Wrangling Code"
      ]
    },
    {
      "cell_type": "code",
      "execution_count": null,
      "metadata": {
        "id": "wk-9a2fpoLcV"
      },
      "outputs": [],
      "source": [
        "# Write your code to make your dataset analysis ready.\n",
        "df.fillna({'last_review':0},inplace=True)\n",
        "df.fillna({'reviews_per_month':0},inplace=True)"
      ]
    },
    {
      "cell_type": "markdown",
      "metadata": {
        "id": "MSa1f5Uengrz"
      },
      "source": [
        "### What all manipulations have you done and insights you found?"
      ]
    },
    {
      "cell_type": "markdown",
      "metadata": {
        "id": "LbyXE7I1olp8"
      },
      "source": [
        "Answer Here."
      ]
    },
    {
      "cell_type": "markdown",
      "metadata": {
        "id": "GF8Ens_Soomf"
      },
      "source": [
        "## ***4. Data Vizualization, Storytelling & Experimenting with charts : Understand the relationships between variables***"
      ]
    },
    {
      "cell_type": "markdown",
      "metadata": {
        "id": "0wOQAZs5pc--"
      },
      "source": [
        "#### Chart - 1"
      ]
    },
    {
      "cell_type": "code",
      "execution_count": null,
      "metadata": {
        "id": "7v_ESjsspbW7"
      },
      "outputs": [],
      "source": [
        "# Chart - 1 visualization code\n",
        "import plotly.express as px\n",
        "\n",
        "# Filter the dataframe so that it does not crash the browser\n",
        "df_filtered = df.head(1000)\n",
        "\n",
        "# Construct the graph and style it. Further customize your graph by editing this code.\n",
        "# See Plotly Documentation for help: https://plotly.com/python/plotly-express/\n",
        "fig = px.scatter(df_filtered, x='latitude', y='longitude', color='neighbourhood_group')\n",
        "fig.update_layout(\n",
        "    title='seeing which neighbourhood is mostly preferred to book a room', \n",
        "    xaxis = dict(\n",
        "        showgrid=True, \n",
        "        rangeslider = dict(\n",
        "            visible=True, \n",
        "            thickness=0.05\n",
        "        )\n",
        "    ), \n",
        "    yaxis = dict(\n",
        "        showgrid=True\n",
        "    ), \n",
        "    legend = dict(\n",
        "        orientation='v'\n",
        "    ), \n",
        "    paper_bgcolor='#FFFFFF'\n",
        ")\n",
        "fig.show()"
      ]
    },
    {
      "cell_type": "markdown",
      "metadata": {
        "id": "K5QZ13OEpz2H"
      },
      "source": [
        "##### 1. Why did you pick the specific chart?"
      ]
    },
    {
      "cell_type": "markdown",
      "metadata": {
        "id": "XESiWehPqBRc"
      },
      "source": [
        "Answer Here.\n",
        "to see the distribution of neighbourhood in which room are booked"
      ]
    },
    {
      "cell_type": "markdown",
      "metadata": {
        "id": "lQ7QKXXCp7Bj"
      },
      "source": [
        "##### 2. What is/are the insight(s) found from the chart?"
      ]
    },
    {
      "cell_type": "markdown",
      "metadata": {
        "id": "C_j1G7yiqdRP"
      },
      "source": [
        "Answer Here\n",
        "manhattan neighbourhood is mostly preferred to book room\n",
        "and staten island is the least"
      ]
    },
    {
      "cell_type": "markdown",
      "metadata": {
        "id": "448CDAPjqfQr"
      },
      "source": [
        "##### 3. Will the gained insights help creating a positive business impact? \n",
        "Are there any insights that lead to negative growth? Justify with specific reason."
      ]
    },
    {
      "cell_type": "markdown",
      "metadata": {
        "id": "3cspy4FjqxJW"
      },
      "source": [
        "Answer Here\n",
        "we have to  better the infrastructure, of staten island as manhattan to attract more customers\n",
        "public transport like airport and all services are more closer to manhattan tha staten island"
      ]
    },
    {
      "cell_type": "markdown",
      "metadata": {
        "id": "KSlN3yHqYklG"
      },
      "source": [
        "#### Chart - 2"
      ]
    },
    {
      "cell_type": "code",
      "execution_count": null,
      "metadata": {
        "id": "R4YgtaqtYklH"
      },
      "outputs": [],
      "source": [
        "# Chart - 2 visualization code\n",
        "import plotly.express as px\n",
        "\n",
        "# Filter the dataframe so that it does not crash the browser\n",
        "df_filtered = df.head(1000)\n",
        "\n",
        "# Construct the graph and style it. Further customize your graph by editing this code.\n",
        "# See Plotly Documentation for help: https://plotly.com/python/plotly-express/\n",
        "fig = px.histogram(df_filtered, x='neighbourhood', color='neighbourhood_group', histfunc='count')\n",
        "fig.update_layout(\n",
        "    title='seeing which  neighbourhood is mostly preferred to book room', \n",
        "    xaxis = dict(\n",
        "        showgrid=True, \n",
        "        rangeslider = dict(\n",
        "            visible=True, \n",
        "            thickness=0.05\n",
        "        )\n",
        "    ), \n",
        "    yaxis = dict(\n",
        "        showgrid=True\n",
        "    ), \n",
        "    legend = dict(\n",
        "        orientation='v'\n",
        "    ), \n",
        "    barmode='group', \n",
        "    paper_bgcolor='#FFFFFF'\n",
        ")\n",
        "fig.show()"
      ]
    },
    {
      "cell_type": "markdown",
      "metadata": {
        "id": "t6dVpIINYklI"
      },
      "source": [
        "##### 1. Why did you pick the specific chart?"
      ]
    },
    {
      "cell_type": "markdown",
      "metadata": {
        "id": "5aaW0BYyYklI"
      },
      "source": [
        "Answer Here.\n",
        "to see the count of room booking is most in which neighbourhood"
      ]
    },
    {
      "cell_type": "markdown",
      "metadata": {
        "id": "ijmpgYnKYklI"
      },
      "source": [
        "##### 2. What is/are the insight(s) found from the chart?"
      ]
    },
    {
      "cell_type": "markdown",
      "metadata": {
        "id": "PSx9atu2YklI"
      },
      "source": [
        "Answer Here\n",
        "the places which are more crowded has more booking it decreasces as we go far from places near to social amenities "
      ]
    },
    {
      "cell_type": "markdown",
      "metadata": {
        "id": "-JiQyfWJYklI"
      },
      "source": [
        "##### 3. Will the gained insights help creating a positive business impact? \n",
        "Are there any insights that lead to negative growth? Justify with specific reason."
      ]
    },
    {
      "cell_type": "markdown",
      "metadata": {
        "id": "BcBbebzrYklV"
      },
      "source": [
        "Answer Here\n",
        "developing the area increaseing the transport system will increase the room booking people like room with social amentities near like airport, hospital ,resturant"
      ]
    },
    {
      "cell_type": "markdown",
      "metadata": {
        "id": "EM7whBJCYoAo"
      },
      "source": [
        "#### Chart - 3"
      ]
    },
    {
      "cell_type": "code",
      "execution_count": null,
      "metadata": {
        "id": "t6GMdE67YoAp"
      },
      "outputs": [],
      "source": [
        "# Chart - 3 visualization code\n",
        "import plotly.express as px\n",
        "\n",
        "# Filter the dataframe so that it does not crash the browser\n",
        "df_filtered = df.head(1000)\n",
        "\n",
        "# Construct the graph and style it. Further customize your graph by editing this code.\n",
        "# See Plotly Documentation for help: https://plotly.com/python/plotly-express/\n",
        "fig = px.histogram(df_filtered, x='room_type', histfunc='count')\n",
        "fig.update_layout(\n",
        "    title='seeing which room_type has more booking', \n",
        "    xaxis = dict(\n",
        "        showgrid=True, \n",
        "        rangeslider = dict(\n",
        "            visible=True, \n",
        "            thickness=0.05\n",
        "        )\n",
        "    ), \n",
        "    yaxis = dict(\n",
        "        showgrid=True\n",
        "    ), \n",
        "    legend = dict(\n",
        "        orientation='v'\n",
        "    ), \n",
        "    barmode='group', \n",
        "    paper_bgcolor='#FFFFFF'\n",
        ")\n",
        "fig.show()"
      ]
    },
    {
      "cell_type": "markdown",
      "metadata": {
        "id": "fge-S5ZAYoAp"
      },
      "source": [
        "##### 1. Why did you pick the specific chart?"
      ]
    },
    {
      "cell_type": "markdown",
      "metadata": {
        "id": "5dBItgRVYoAp"
      },
      "source": [
        "Answer Here.\n",
        "to see the excact count of room type used by customer"
      ]
    },
    {
      "cell_type": "markdown",
      "metadata": {
        "id": "85gYPyotYoAp"
      },
      "source": [
        "##### 2. What is/are the insight(s) found from the chart?"
      ]
    },
    {
      "cell_type": "markdown",
      "metadata": {
        "id": "4jstXR6OYoAp"
      },
      "source": [
        "Answer Here\n",
        "seeing this I can say more people mostly travel with family as a full home/apt is booked\n",
        "very least people who travel alone prefer shared room"
      ]
    },
    {
      "cell_type": "markdown",
      "metadata": {
        "id": "RoGjAbkUYoAp"
      },
      "source": [
        "##### 3. Will the gained insights help creating a positive business impact? \n",
        "Are there any insights that lead to negative growth? Justify with specific reason."
      ]
    },
    {
      "cell_type": "markdown",
      "metadata": {
        "id": "zfJ8IqMcYoAp"
      },
      "source": [
        "Answer Here\n",
        "seeing the graph service in entire home and private room ishould be improved as it has most booking people like good service \n",
        "its more likely that people will come again or refer that same place to their relative if they are thinking of visiting that place"
      ]
    },
    {
      "cell_type": "markdown",
      "metadata": {
        "id": "4Of9eVA-YrdM"
      },
      "source": [
        "#### Chart - 4"
      ]
    },
    {
      "cell_type": "code",
      "execution_count": null,
      "metadata": {
        "id": "irlUoxc8YrdO"
      },
      "outputs": [],
      "source": [
        "# Chart - 4 visualization code\n",
        "import plotly.express as px\n",
        "\n",
        "# Filter the dataframe so that it does not crash the browser\n",
        "df_filtered = df.head(1000)\n",
        "\n",
        "# Construct the graph and style it. Further customize your graph by editing this code.\n",
        "# See Plotly Documentation for help: https://plotly.com/python/plotly-express/\n",
        "fig = px.histogram(df_filtered, x='room_type', y='neighbourhood_group', color='neighbourhood_group', histfunc='count')\n",
        "fig.update_layout(\n",
        "    title='seeing which type of room_type booking is done  in different  neighbourhood_group ', \n",
        "    xaxis = dict(\n",
        "        showgrid=True, \n",
        "        rangeslider = dict(\n",
        "            visible=True, \n",
        "            thickness=0.05\n",
        "        )\n",
        "    ), \n",
        "    yaxis = dict(\n",
        "        showgrid=True\n",
        "    ), \n",
        "    legend = dict(\n",
        "        orientation='v'\n",
        "    ), \n",
        "    barmode='group', \n",
        "    paper_bgcolor='#FFFFFF'\n",
        ")\n",
        "fig.show()"
      ]
    },
    {
      "cell_type": "markdown",
      "metadata": {
        "id": "iky9q4vBYrdO"
      },
      "source": [
        "##### 1. Why did you pick the specific chart?"
      ]
    },
    {
      "cell_type": "markdown",
      "metadata": {
        "id": "aJRCwT6DYrdO"
      },
      "source": [
        "Answer Here.\n",
        "to see the count of every room type"
      ]
    },
    {
      "cell_type": "markdown",
      "metadata": {
        "id": "F6T5p64dYrdO"
      },
      "source": [
        "##### 2. What is/are the insight(s) found from the chart?"
      ]
    },
    {
      "cell_type": "markdown",
      "metadata": {
        "id": "Xx8WAJvtYrdO"
      },
      "source": [
        "Answer Here\n",
        "In Manhattan, Brooklyn the entire home/ apartment and the private room booking is more or less  same\n",
        "so as of queens\n",
        "But in straten Island  I learn there are more booking of private rooms rather than entire home or apartment\n",
        "In Bronx is the same as the booking room is more of private rooms rather than entire home or apartment\n",
        "And least are shared room very less people refer staying there"
      ]
    },
    {
      "cell_type": "markdown",
      "metadata": {
        "id": "y-Ehk30pYrdP"
      },
      "source": [
        "##### 3. Will the gained insights help creating a positive business impact? \n",
        "Are there any insights that lead to negative growth? Justify with specific reason."
      ]
    },
    {
      "cell_type": "markdown",
      "metadata": {
        "id": "jLNxxz7MYrdP"
      },
      "source": [
        "Answer Here\n",
        "there is slow growth in 3 neighbourhood queens , staten island and bronx we have to improve service there or it might happen these are far from tourist place and not so connected with transport thats why people prefer staying near by"
      ]
    },
    {
      "cell_type": "markdown",
      "metadata": {
        "id": "bamQiAODYuh1"
      },
      "source": [
        "#### Chart - 5"
      ]
    },
    {
      "cell_type": "code",
      "execution_count": null,
      "metadata": {
        "id": "TIJwrbroYuh3"
      },
      "outputs": [],
      "source": [
        "# Chart - 5 visualization code\n",
        "import plotly.express as px\n",
        "\n",
        "# Filter the dataframe so that it does not crash the browser\n",
        "df_filtered = df.head(1000)\n",
        "\n",
        "# Construct the graph and style it. Further customize your graph by editing this code.\n",
        "# See Plotly Documentation for help: https://plotly.com/python/plotly-express/\n",
        "fig = px.histogram(df_filtered, x='price', y='room_type', color='neighbourhood_group', histfunc='count')\n",
        "fig.update_layout(\n",
        "    title='seeing the price of  room_type ', \n",
        "    xaxis = dict(title='price',\n",
        "        showgrid=True, \n",
        "        rangeslider = dict(\n",
        "            visible=True, \n",
        "            thickness=0.05\n",
        "        )\n",
        "    ), \n",
        "    yaxis = dict(\n",
        "        showgrid=True\n",
        "    ), \n",
        "    legend = dict(\n",
        "        orientation='v'\n",
        "    ), \n",
        "    barmode='group', \n",
        "    paper_bgcolor='#FFFFFF'\n",
        ")\n",
        "fig.show()"
      ]
    },
    {
      "cell_type": "markdown",
      "metadata": {
        "id": "QHF8YVU7Yuh3"
      },
      "source": [
        "##### 1. Why did you pick the specific chart?"
      ]
    },
    {
      "cell_type": "markdown",
      "metadata": {
        "id": "dcxuIMRPYuh3"
      },
      "source": [
        "Answer Here.\n",
        "to see which room type is costly and which not according to location"
      ]
    },
    {
      "cell_type": "markdown",
      "metadata": {
        "id": "GwzvFGzlYuh3"
      },
      "source": [
        "##### 2. What is/are the insight(s) found from the chart?"
      ]
    },
    {
      "cell_type": "markdown",
      "metadata": {
        "id": "uyqkiB8YYuh3"
      },
      "source": [
        "Answer Here\n",
        "people prefer staying in manhatan and brooklyn inspite of it been costly may be as there service is better or near to social amenity\n",
        "or the other places are far and transportation cost is same as staying there and traveling"
      ]
    },
    {
      "cell_type": "markdown",
      "metadata": {
        "id": "qYpmQ266Yuh3"
      },
      "source": [
        "##### 3. Will the gained insights help creating a positive business impact? \n",
        "Are there any insights that lead to negative growth? Justify with specific reason."
      ]
    },
    {
      "cell_type": "markdown",
      "metadata": {
        "id": "_WtzZ_hCYuh4"
      },
      "source": [
        "Answer Here\n",
        "we have to improve places other than brooklyn and manhatan"
      ]
    },
    {
      "cell_type": "markdown",
      "metadata": {
        "id": "OH-pJp9IphqM"
      },
      "source": [
        "#### Chart - 6"
      ]
    },
    {
      "cell_type": "code",
      "execution_count": null,
      "metadata": {
        "id": "BSrcEF_IgDIw"
      },
      "outputs": [],
      "source": [
        "import plotly.express as px\n",
        "\n",
        "fig = px.histogram(df, x='room_type', y='minimum_nights', color='neighbourhood_group', histfunc='count')\n",
        "fig.update_layout(\n",
        "    title='seeing price of per night with according to neighbourhood group', \n",
        "    xaxis = dict(\n",
        "        showgrid=True, \n",
        "        rangeslider = dict(\n",
        "            visible=True, \n",
        "            thickness=0.05\n",
        "        )\n",
        "    ), \n",
        "    yaxis = dict(\n",
        "        title='minimum_nights', \n",
        "        showgrid=True\n",
        "    ), \n",
        "    legend = dict(\n",
        "        orientation='v'\n",
        "    ), \n",
        "    barmode='group', \n",
        "    paper_bgcolor='#FFFFFF'\n",
        ")\n",
        "fig.show()"
      ]
    },
    {
      "cell_type": "markdown",
      "metadata": {
        "id": "bbFf2-_FphqN"
      },
      "source": [
        "##### 1. Why did you pick the specific chart?"
      ]
    },
    {
      "cell_type": "markdown",
      "metadata": {
        "id": "loh7H2nzphqN"
      },
      "source": [
        "Answer Here.\n",
        "its showing the count per nights"
      ]
    },
    {
      "cell_type": "markdown",
      "metadata": {
        "id": "_ouA3fa0phqN"
      },
      "source": [
        "##### 2. What is/are the insight(s) found from the chart?"
      ]
    },
    {
      "cell_type": "markdown",
      "metadata": {
        "id": "VECbqPI7phqN"
      },
      "source": [
        "Answer Here\n",
        "private room price in all neighbourhood group are less  than entire home except in brooklyn entire home is a bit cheap than private room for private room its 10k but for entire home its between 9.5 to 9.9\n",
        "for manhattan its usual the entire home is costly than private room \n",
        "for queens the price of entire home is 2k and private room 3.5k which is again unusal as private room is expensive than entire home\n",
        "bronx also follows the same pattern entire home is cheaper than private room \n",
        "but for staten island its odd as both entire home and private room is more or less same\n",
        "and shared room are the cheapest"
      ]
    },
    {
      "cell_type": "markdown",
      "metadata": {
        "id": "Seke61FWphqN"
      },
      "source": [
        "##### 3. Will the gained insights help creating a positive business impact? \n",
        "Are there any insights that lead to negative growth? Justify with specific reason.\n",
        "we should improve service for shared rooms"
      ]
    },
    {
      "cell_type": "markdown",
      "metadata": {
        "id": "DW4_bGpfphqN"
      },
      "source": [
        "Answer Here"
      ]
    },
    {
      "cell_type": "markdown",
      "metadata": {
        "id": "PIIx-8_IphqN"
      },
      "source": [
        "#### Chart - 7"
      ]
    },
    {
      "cell_type": "code",
      "execution_count": null,
      "metadata": {
        "id": "lqAIGUfyphqO"
      },
      "outputs": [],
      "source": [
        "# Chart - 7 visualization code\n",
        "import plotly.express as px\n",
        "\n",
        "# Filter the dataframe so that it does not crash the browser\n",
        "Airbnb_NYC_2019_filtered = df.head(1000)\n",
        "\n",
        "# Construct the graph and style it. Further customize your graph by editing this code.\n",
        "# See Plotly Documentation for help: https://plotly.com/python/plotly-express/\n",
        "fig = px.scatter(Airbnb_NYC_2019_filtered, x='neighbourhood', y='minimum_nights', color='room_type')\n",
        "fig.update_layout(\n",
        "    title='seeing minimum nights in every neighbourhood', \n",
        "    xaxis = dict(\n",
        "        showgrid=True, \n",
        "        rangeslider = dict(\n",
        "            visible=True, \n",
        "            thickness=0.05\n",
        "        )\n",
        "    ), \n",
        "    yaxis = dict(\n",
        "        showgrid=True\n",
        "    ), \n",
        "    legend = dict(\n",
        "        orientation='v'\n",
        "    ), \n",
        "    paper_bgcolor='#FFFFFF'\n",
        ")\n",
        "fig.show()"
      ]
    },
    {
      "cell_type": "markdown",
      "metadata": {
        "id": "t27r6nlMphqO"
      },
      "source": [
        "##### 1. Why did you pick the specific chart?"
      ]
    },
    {
      "cell_type": "markdown",
      "metadata": {
        "id": "iv6ro40sphqO"
      },
      "source": [
        "Answer Here\n",
        "to see the distribution of neighbourhood"
      ]
    },
    {
      "cell_type": "markdown",
      "metadata": {
        "id": "r2jJGEOYphqO"
      },
      "source": [
        "##### 2. What is/are the insight(s) found from the chart?"
      ]
    },
    {
      "cell_type": "markdown",
      "metadata": {
        "id": "Po6ZPi4hphqO"
      },
      "source": [
        "Answer Here\n",
        "for some neighbourhood its consant but few neighbourhood its too much"
      ]
    },
    {
      "cell_type": "markdown",
      "metadata": {
        "id": "b0JNsNcRphqO"
      },
      "source": [
        "##### 3. Will the gained insights help creating a positive business impact? \n",
        "Are there any insights that lead to negative growth? Justify with specific reason."
      ]
    },
    {
      "cell_type": "markdown",
      "metadata": {
        "id": "xvSq8iUTphqO"
      },
      "source": [
        "Answer Here"
      ]
    },
    {
      "cell_type": "markdown",
      "metadata": {
        "id": "BZR9WyysphqO"
      },
      "source": [
        "#### Chart - 8"
      ]
    },
    {
      "cell_type": "code",
      "execution_count": null,
      "metadata": {
        "id": "TdPTWpAVphqO"
      },
      "outputs": [],
      "source": [
        "# Chart - 8 visualization code\n",
        "import plotly.express as px\n",
        "\n",
        "# Filter the dataframe so that it does not crash the browser\n",
        "Airbnb_NYC_2019_filtered = df.head(1000)\n",
        "\n",
        "# Construct the graph and style it. Further customize your graph by editing this code.\n",
        "# See Plotly Documentation for help: https://plotly.com/python/plotly-express/\n",
        "fig = px.histogram(Airbnb_NYC_2019_filtered, x='neighbourhood_group', y='number_of_reviews', color='room_type', histfunc='count')\n",
        "fig.update_layout(\n",
        "    title='seeing number of reviews in neighbourhood group in accordance to room', \n",
        "    xaxis = dict(\n",
        "        showgrid=True, \n",
        "        rangeslider = dict(\n",
        "            visible=True, \n",
        "            thickness=0.05\n",
        "        )\n",
        "    ), \n",
        "    yaxis = dict(\n",
        "        title='numbers of reviews', \n",
        "        showgrid=True\n",
        "    ), \n",
        "    legend = dict(\n",
        "        orientation='v'\n",
        "    ), \n",
        "    barmode='group', \n",
        "    paper_bgcolor='#FFFFFF'\n",
        ")\n",
        "fig.show()"
      ]
    },
    {
      "cell_type": "markdown",
      "metadata": {
        "id": "jj7wYXLtphqO"
      },
      "source": [
        "##### 1. Why did you pick the specific chart?"
      ]
    },
    {
      "cell_type": "markdown",
      "metadata": {
        "id": "Ob8u6rCTphqO"
      },
      "source": [
        "Answer Here.\n",
        "to count reviews"
      ]
    },
    {
      "cell_type": "markdown",
      "metadata": {
        "id": "eZrbJ2SmphqO"
      },
      "source": [
        "##### 2. What is/are the insight(s) found from the chart?"
      ]
    },
    {
      "cell_type": "markdown",
      "metadata": {
        "id": "mZtgC_hjphqO"
      },
      "source": [
        "Answer Here\n",
        "the rating for manhattan and brooknly private room and entire home is very high escept for manhattan shared room its very low as less customer stays there\n",
        "but for queens ,staten island and bronx the the rating is very low \n",
        "only in manhattan and queens shared room were reviewed rest no neighbourhood group contains review for shared room"
      ]
    },
    {
      "cell_type": "markdown",
      "metadata": {
        "id": "rFu4xreNphqO"
      },
      "source": [
        "##### 3. Will the gained insights help creating a positive business impact? \n",
        "Are there any insights that lead to negative growth? Justify with specific reason."
      ]
    },
    {
      "cell_type": "markdown",
      "metadata": {
        "id": "ey_0qi68phqO"
      },
      "source": [
        "Answer Here\n",
        "increase more service in manhattan and brooklyn as its more densely reviewed \n",
        "and better the service for other neighbourhood group to increase reviews"
      ]
    },
    {
      "cell_type": "markdown",
      "metadata": {
        "id": "YJ55k-q6phqO"
      },
      "source": [
        "#### Chart - 9"
      ]
    },
    {
      "cell_type": "code",
      "execution_count": null,
      "metadata": {
        "id": "B2aS4O1ophqO"
      },
      "outputs": [],
      "source": [
        "# Chart - 9 visualization code\n",
        "import plotly.express as px\n",
        "\n",
        "# Filter the dataframe so that it does not crash the browser\n",
        "Airbnb_NYC_2019_filtered = df.head(1000)\n",
        "\n",
        "# Construct the graph and style it. Further customize your graph by editing this code.\n",
        "# See Plotly Documentation for help: https://plotly.com/python/plotly-express/\n",
        "fig = px.histogram(Airbnb_NYC_2019_filtered, x='neighbourhood', y='number_of_reviews', color='room_type', histfunc='count')\n",
        "fig.update_layout(\n",
        "    title='seeing number of reviews in neighbourhood in accordance to room', \n",
        "    xaxis = dict(\n",
        "        showgrid=True, \n",
        "        rangeslider = dict(\n",
        "            visible=True, \n",
        "            thickness=0.05\n",
        "        )\n",
        "    ), \n",
        "    yaxis = dict(\n",
        "        title='numbers of reviews', \n",
        "        showgrid=True\n",
        "    ), \n",
        "    legend = dict(\n",
        "        orientation='v'\n",
        "    ), \n",
        "    barmode='group', \n",
        "    paper_bgcolor='#FFFFFF'\n",
        ")\n",
        "fig.show()"
      ]
    },
    {
      "cell_type": "markdown",
      "metadata": {
        "id": "gCFgpxoyphqP"
      },
      "source": [
        "##### 1. Why did you pick the specific chart?"
      ]
    },
    {
      "cell_type": "markdown",
      "metadata": {
        "id": "TVxDimi2phqP"
      },
      "source": [
        "Answer Here.\n",
        "to see which is most reviewed"
      ]
    },
    {
      "cell_type": "markdown",
      "metadata": {
        "id": "OVtJsKN_phqQ"
      },
      "source": [
        "##### 2. What is/are the insight(s) found from the chart?"
      ]
    },
    {
      "cell_type": "markdown",
      "metadata": {
        "id": "ngGi97qjphqQ"
      },
      "source": [
        "Answer Here\n",
        "service in wiilamburg is to good for entire house its mostly reviewded"
      ]
    },
    {
      "cell_type": "markdown",
      "metadata": {
        "id": "lssrdh5qphqQ"
      },
      "source": [
        "##### 3. Will the gained insights help creating a positive business impact? \n",
        "Are there any insights that lead to negative growth? Justify with specific reason."
      ]
    },
    {
      "cell_type": "markdown",
      "metadata": {
        "id": "tBpY5ekJphqQ"
      },
      "source": [
        "Answer Here\n",
        "take refrence from williamburg and improve service in other other neighbourhood to attract more customers"
      ]
    },
    {
      "cell_type": "markdown",
      "metadata": {
        "id": "U2RJ9gkRphqQ"
      },
      "source": [
        "#### Chart - 10"
      ]
    },
    {
      "cell_type": "code",
      "execution_count": null,
      "metadata": {
        "id": "GM7a4YP4phqQ"
      },
      "outputs": [],
      "source": [
        "# Chart - 10 visualization code\n",
        "import plotly.express as px\n",
        "\n",
        "# Filter the dataframe so that it does not crash the browser\n",
        "Airbnb_NYC_2019_filtered =df.head(1000)\n",
        "\n",
        "# Construct the graph and style it. Further customize your graph by editing this code.\n",
        "# See Plotly Documentation for help: https://plotly.com/python/plotly-express/\n",
        "fig = px.scatter(Airbnb_NYC_2019_filtered, x='price', y='number_of_reviews', color='room_type')\n",
        "fig.update_layout(\n",
        "    title='seeing the distribution of reviews with price of room', \n",
        "    xaxis = dict(\n",
        "        showgrid=True, \n",
        "        rangeslider = dict(\n",
        "            visible=True, \n",
        "            thickness=0.05\n",
        "        )\n",
        "    ), \n",
        "    yaxis = dict(\n",
        "        showgrid=True\n",
        "    ), \n",
        "    legend = dict(\n",
        "        orientation='v'\n",
        "    ), \n",
        "    paper_bgcolor='#FFFFFF'\n",
        ")\n",
        "fig.show()"
      ]
    },
    {
      "cell_type": "markdown",
      "metadata": {
        "id": "1M8mcRywphqQ"
      },
      "source": [
        "##### 1. Why did you pick the specific chart?"
      ]
    },
    {
      "cell_type": "markdown",
      "metadata": {
        "id": "8agQvks0phqQ"
      },
      "source": [
        "Answer Here.\n",
        "to see the distribution of reviews"
      ]
    },
    {
      "cell_type": "markdown",
      "metadata": {
        "id": "tgIPom80phqQ"
      },
      "source": [
        "##### 2. What is/are the insight(s) found from the chart?"
      ]
    },
    {
      "cell_type": "markdown",
      "metadata": {
        "id": "Qp13pnNzphqQ"
      },
      "source": [
        "Answer Here\n",
        "more reviews are given for price range between 0-500 from 0 to around 300 higher than 500 price the reviews starts to fall gradually more reviews are there for entire home but more reviews are present for private room 480 people reviewed it "
      ]
    },
    {
      "cell_type": "markdown",
      "metadata": {
        "id": "JMzcOPDDphqR"
      },
      "source": [
        "##### 3. Will the gained insights help creating a positive business impact? \n",
        "Are there any insights that lead to negative growth? Justify with specific reason."
      ]
    },
    {
      "cell_type": "markdown",
      "metadata": {
        "id": "R4Ka1PC2phqR"
      },
      "source": [
        "Answer Here\n",
        "the reviews of shared room are very low causing negative growth we should improve those rooms so people are more likely to stay there and review it"
      ]
    },
    {
      "cell_type": "markdown",
      "metadata": {
        "id": "x-EpHcCOp1ci"
      },
      "source": [
        "#### Chart - 11"
      ]
    },
    {
      "cell_type": "code",
      "execution_count": null,
      "metadata": {
        "id": "mAQTIvtqp1cj"
      },
      "outputs": [],
      "source": [
        "# Chart - 11 visualization code\n",
        "import plotly.express as px\n",
        "\n",
        "# Filter the dataframe so that it does not crash the browser\n",
        "Airbnb_NYC_2019_filtered = df.head(1000)\n",
        "\n",
        "# Construct the graph and style it. Further customize your graph by editing this code.\n",
        "# See Plotly Documentation for help: https://plotly.com/python/plotly-express/\n",
        "fig = px.scatter(Airbnb_NYC_2019_filtered, x='price', y='minimum_nights')\n",
        "fig.update_layout(\n",
        "    title='chargers for per night', \n",
        "    xaxis = dict(\n",
        "        showgrid=True, \n",
        "        rangeslider = dict(\n",
        "            visible=True, \n",
        "            thickness=0.05\n",
        "        )\n",
        "    ), \n",
        "    yaxis = dict(\n",
        "        showgrid=True\n",
        "    ), \n",
        "    legend = dict(\n",
        "        orientation='v'\n",
        "    ), \n",
        "    paper_bgcolor='#FFFFFF'\n",
        ")\n",
        "fig.show()"
      ]
    },
    {
      "cell_type": "markdown",
      "metadata": {
        "id": "X_VqEhTip1ck"
      },
      "source": [
        "##### 1. Why did you pick the specific chart?"
      ]
    },
    {
      "cell_type": "markdown",
      "metadata": {
        "id": "-vsMzt_np1ck"
      },
      "source": [
        "Answer Here.\n",
        "to see how days people stay"
      ]
    },
    {
      "cell_type": "markdown",
      "metadata": {
        "id": "8zGJKyg5p1ck"
      },
      "source": [
        "##### 2. What is/are the insight(s) found from the chart?"
      ]
    },
    {
      "cell_type": "markdown",
      "metadata": {
        "id": "ZYdMsrqVp1ck"
      },
      "source": [
        "Answer Here\n",
        "mostly people stays till 50 days over 50 it starts becoming less and most people prefer less than 500 price"
      ]
    },
    {
      "cell_type": "markdown",
      "metadata": {
        "id": "PVzmfK_Ep1ck"
      },
      "source": [
        "##### 3. Will the gained insights help creating a positive business impact? \n",
        "Are there any insights that lead to negative growth? Justify with specific reason."
      ]
    },
    {
      "cell_type": "markdown",
      "metadata": {
        "id": "druuKYZpp1ck"
      },
      "source": [
        "Answer Here\n",
        "there is positive growth "
      ]
    },
    {
      "cell_type": "markdown",
      "metadata": {
        "id": "n3dbpmDWp1ck"
      },
      "source": [
        "#### Chart - 12"
      ]
    },
    {
      "cell_type": "code",
      "execution_count": null,
      "metadata": {
        "id": "bwevp1tKp1ck"
      },
      "outputs": [],
      "source": [
        "# Chart - 12 visualization code\n",
        "import plotly.express as px\n",
        "\n",
        "# Filter the dataframe so that it does not crash the browser\n",
        "Airbnb_NYC_2019_filtered = df.head(1000)\n",
        "\n",
        "# Construct the graph and style it. Further customize your graph by editing this code.\n",
        "# See Plotly Documentation for help: https://plotly.com/python/plotly-express/\n",
        "fig = px.scatter(Airbnb_NYC_2019_filtered, x='price', y='minimum_nights', color='room_type')\n",
        "fig.update_layout(\n",
        "    title='seeing price per night for each room type', \n",
        "    xaxis = dict(\n",
        "        showgrid=True, \n",
        "        rangeslider = dict(\n",
        "            visible=True, \n",
        "            thickness=0.05\n",
        "        )\n",
        "    ), \n",
        "    yaxis = dict(\n",
        "        showgrid=True\n",
        "    ), \n",
        "    legend = dict(\n",
        "        orientation='v'\n",
        "    ), \n",
        "    paper_bgcolor='#FFFFFF'\n",
        ")\n",
        "fig.show()"
      ]
    },
    {
      "cell_type": "markdown",
      "metadata": {
        "id": "ylSl6qgtp1ck"
      },
      "source": [
        "##### 1. Why did you pick the specific chart?"
      ]
    },
    {
      "cell_type": "markdown",
      "metadata": {
        "id": "m2xqNkiQp1ck"
      },
      "source": [
        "Answer Here.\n",
        "see the distribution of price per night for each room type"
      ]
    },
    {
      "cell_type": "markdown",
      "metadata": {
        "id": "ZWILFDl5p1ck"
      },
      "source": [
        "##### 2. What is/are the insight(s) found from the chart?"
      ]
    },
    {
      "cell_type": "markdown",
      "metadata": {
        "id": "x-lUsV2mp1ck"
      },
      "source": [
        "Answer Here\n",
        "most book the entire home and private room for around 50 days few book entire home for  a year \n",
        "least are shared room booked for around 20 days "
      ]
    },
    {
      "cell_type": "markdown",
      "metadata": {
        "id": "M7G43BXep1ck"
      },
      "source": [
        "##### 3. Will the gained insights help creating a positive business impact? \n",
        "Are there any insights that lead to negative growth? Justify with specific reason."
      ]
    },
    {
      "cell_type": "markdown",
      "metadata": {
        "id": "5wwDJXsLp1cl"
      },
      "source": [
        "Answer Here\n",
        "its showing negative growth for shared room "
      ]
    },
    {
      "cell_type": "markdown",
      "metadata": {
        "id": "Ag9LCva-p1cl"
      },
      "source": [
        "#### Chart - 13"
      ]
    },
    {
      "cell_type": "code",
      "execution_count": null,
      "metadata": {
        "id": "EUfxeq9-p1cl"
      },
      "outputs": [],
      "source": [
        "# Chart - 13 visualization code\n",
        "import plotly.express as px\n",
        "\n",
        "# Filter the dataframe so that it does not crash the browser\n",
        "Airbnb_NYC_2019_filtered = df.head(1000)\n",
        "\n",
        "# Construct the graph and style it. Further customize your graph by editing this code.\n",
        "# See Plotly Documentation for help: https://plotly.com/python/plotly-express/\n",
        "fig = px.histogram(Airbnb_NYC_2019_filtered, x='minimum_nights', y='number_of_reviews', color='neighbourhood_group', histfunc='count')\n",
        "fig.update_layout(\n",
        "    title='seeing price per night according to the neighbourhood', \n",
        "    xaxis = dict(\n",
        "        showgrid=True, \n",
        "        rangeslider = dict(\n",
        "            visible=True, \n",
        "            thickness=0.05\n",
        "        )\n",
        "    ), \n",
        "    yaxis = dict(\n",
        "        title='reviews', \n",
        "        showgrid=True\n",
        "    ), \n",
        "    legend = dict(\n",
        "        orientation='v'\n",
        "    ), \n",
        "    barmode='group', \n",
        "    paper_bgcolor='#FFFFFF'\n",
        ")\n",
        "fig.show()"
      ]
    },
    {
      "cell_type": "markdown",
      "metadata": {
        "id": "E6MkPsBcp1cl"
      },
      "source": [
        "##### 1. Why did you pick the specific chart?"
      ]
    },
    {
      "cell_type": "markdown",
      "metadata": {
        "id": "V22bRsFWp1cl"
      },
      "source": [
        "Answer Here.\n",
        "to count reviews"
      ]
    },
    {
      "cell_type": "markdown",
      "metadata": {
        "id": "2cELzS2fp1cl"
      },
      "source": [
        "##### 2. What is/are the insight(s) found from the chart?"
      ]
    },
    {
      "cell_type": "markdown",
      "metadata": {
        "id": "ozQPc2_Ip1cl"
      },
      "source": [
        "Answer Here\n",
        "most reviews are given by people who stayed max 2 days \n",
        "more people stayed in brooklyn then manhattan then queens then staten island and at last bronx"
      ]
    },
    {
      "cell_type": "markdown",
      "metadata": {
        "id": "3MPXvC8up1cl"
      },
      "source": [
        "##### 3. Will the gained insights help creating a positive business impact? \n",
        "Are there any insights that lead to negative growth? Justify with specific reason."
      ]
    },
    {
      "cell_type": "markdown",
      "metadata": {
        "id": "GL8l1tdLp1cl"
      },
      "source": [
        "Answer Here\n",
        "it shows positive growth"
      ]
    },
    {
      "cell_type": "markdown",
      "metadata": {
        "id": "NC_X3p0fY2L0"
      },
      "source": [
        "#### Chart - 14 - Correlation Heatmap"
      ]
    },
    {
      "cell_type": "code",
      "execution_count": null,
      "metadata": {
        "id": "xyC9zolEZNRQ"
      },
      "outputs": [],
      "source": [
        "# Correlation Heatmap visualization code\n",
        "corrmat=df.corr()\n",
        "top_corr_features=corrmat.index\n",
        "plt.figure(figsize=(20,20))\n",
        "g=sns.heatmap(df[top_corr_features].corr(),annot=True,cmap='RdYlGn')"
      ]
    },
    {
      "cell_type": "markdown",
      "metadata": {
        "id": "UV0SzAkaZNRQ"
      },
      "source": [
        "##### 1. Why did you pick the specific chart?"
      ]
    },
    {
      "cell_type": "markdown",
      "metadata": {
        "id": "DVPuT8LYZNRQ"
      },
      "source": [
        "Answer Here.\n",
        "to see correlation "
      ]
    },
    {
      "cell_type": "markdown",
      "metadata": {
        "id": "YPEH6qLeZNRQ"
      },
      "source": [
        "##### 2. What is/are the insight(s) found from the chart?"
      ]
    },
    {
      "cell_type": "markdown",
      "metadata": {
        "id": "bfSqtnDqZNRR"
      },
      "source": [
        "Answer Here\n",
        "there are many highly correalted columns"
      ]
    },
    {
      "cell_type": "markdown",
      "metadata": {
        "id": "q29F0dvdveiT"
      },
      "source": [
        "#### Chart - 15 - Pair Plot "
      ]
    },
    {
      "cell_type": "code",
      "execution_count": null,
      "metadata": {
        "id": "o58-TEIhveiU"
      },
      "outputs": [],
      "source": [
        "# Pair Plot visualization code\n",
        "sns.pairplot(df)"
      ]
    },
    {
      "cell_type": "markdown",
      "metadata": {
        "id": "EXh0U9oCveiU"
      },
      "source": [
        "##### 1. Why did you pick the specific chart?"
      ]
    },
    {
      "cell_type": "markdown",
      "metadata": {
        "id": "eMmPjTByveiU"
      },
      "source": [
        "Answer Here\n",
        "to see pair"
      ]
    },
    {
      "cell_type": "markdown",
      "metadata": {
        "id": "22aHeOlLveiV"
      },
      "source": [
        "##### 2. What is/are the insight(s) found from the chart?"
      ]
    },
    {
      "cell_type": "markdown",
      "metadata": {
        "id": "uPQ8RGwHveiV"
      },
      "source": [
        "Answer Here"
      ]
    },
    {
      "cell_type": "markdown",
      "metadata": {
        "id": "JcMwzZxoAimU"
      },
      "source": [
        "## **5. Solution to Business Objective**"
      ]
    },
    {
      "cell_type": "markdown",
      "metadata": {
        "id": "8G2x9gOozGDZ"
      },
      "source": [
        "#### What do you suggest the client to achieve Business Objective ? \n",
        "Explain Briefly."
      ]
    },
    {
      "cell_type": "markdown",
      "metadata": {
        "id": "pASKb0qOza21"
      },
      "source": [
        "Answer Here.\n",
        "Based on the insights gathered from the Airbnb Bookings Analysis EDA, there are several potential solutions that hosts can implement to optimize their properties for higher booking rates. These solutions include:\n",
        "1) Offer competitive pricing: Hosts can set competitive prices for their properties by researching the prices of similar properties in their area. Offering competitive prices can attract more guests and increase the booking rate of the property.\n",
        "2) Improve property amenities: Hosts can improve the amenities offered at their properties to attract more guests. For example, offering free Wi-Fi, providing essential toiletries, and offering complimentary breakfast can make the property more attractive to guests.\n",
        "3) Update property listing: Hosts can update their property listing with accurate and high-quality photos and descriptions. This can help to attract more guests and increase the booking rate of the property.\n",
        "4) Implement seasonal pricing: Hosts can implement seasonal pricing to take advantage of peak tourist seasons and holidays when the demand for properties is higher. This can help to increase the booking rate and revenue of the property."
      ]
    },
    {
      "cell_type": "markdown",
      "metadata": {
        "id": "gCX9965dhzqZ"
      },
      "source": [
        "# **Conclusion**"
      ]
    },
    {
      "cell_type": "markdown",
      "metadata": {
        "id": "Fjb1IsQkh3yE"
      },
      "source": [
        "Write the conclusion here.\n",
        "\n",
        "the Airbnb Bookings Analysis EDA provides valuable insights for both hosts and travelers. Hosts can use the insights to optimize their properties for higher booking rates, while travelers can use the insights to find properties that meet their specific needs and preferences. As the sharing economy continues to grow and evolve, the insights from this analysis can help to shape the future of the Airbnb platform and the broader sharing economy landscape."
      ]
    },
    {
      "cell_type": "markdown",
      "metadata": {
        "id": "gIfDvo9L0UH2"
      },
      "source": [
        "### ***Hurrah! You have successfully completed your EDA Capstone Project !!!***"
      ]
    }
  ],
  "metadata": {
    "colab": {
      "collapsed_sections": [
        "vncDsAP0Gaoa",
        "FJNUwmbgGyua",
        "w6K7xa23Elo4",
        "yQaldy8SH6Dl",
        "PH-0ReGfmX4f",
        "mDgbUHAGgjLW",
        "O_i_v8NEhb9l",
        "HhfV-JJviCcP",
        "Y3lxredqlCYt",
        "3RnN4peoiCZX",
        "x71ZqKXriCWQ",
        "7hBIi_osiCS2",
        "JlHwYmJAmNHm",
        "35m5QtbWiB9F",
        "PoPl-ycgm1ru",
        "H0kj-8xxnORC",
        "nA9Y7ga8ng1Z",
        "PBTbrJXOngz2",
        "u3PMJOP6ngxN",
        "dauF4eBmngu3",
        "bKJF3rekwFvQ",
        "MSa1f5Uengrz",
        "GF8Ens_Soomf",
        "0wOQAZs5pc--",
        "K5QZ13OEpz2H",
        "lQ7QKXXCp7Bj",
        "448CDAPjqfQr",
        "KSlN3yHqYklG",
        "t6dVpIINYklI",
        "ijmpgYnKYklI",
        "-JiQyfWJYklI",
        "EM7whBJCYoAo",
        "fge-S5ZAYoAp",
        "85gYPyotYoAp",
        "RoGjAbkUYoAp",
        "4Of9eVA-YrdM",
        "iky9q4vBYrdO",
        "F6T5p64dYrdO",
        "y-Ehk30pYrdP",
        "bamQiAODYuh1",
        "QHF8YVU7Yuh3",
        "GwzvFGzlYuh3",
        "qYpmQ266Yuh3",
        "OH-pJp9IphqM",
        "bbFf2-_FphqN",
        "_ouA3fa0phqN",
        "Seke61FWphqN",
        "PIIx-8_IphqN",
        "t27r6nlMphqO",
        "r2jJGEOYphqO",
        "b0JNsNcRphqO",
        "BZR9WyysphqO",
        "jj7wYXLtphqO",
        "eZrbJ2SmphqO",
        "rFu4xreNphqO",
        "YJ55k-q6phqO",
        "gCFgpxoyphqP",
        "OVtJsKN_phqQ",
        "lssrdh5qphqQ",
        "U2RJ9gkRphqQ",
        "1M8mcRywphqQ",
        "tgIPom80phqQ",
        "JMzcOPDDphqR",
        "x-EpHcCOp1ci",
        "X_VqEhTip1ck",
        "8zGJKyg5p1ck",
        "PVzmfK_Ep1ck",
        "n3dbpmDWp1ck",
        "ylSl6qgtp1ck",
        "ZWILFDl5p1ck",
        "M7G43BXep1ck",
        "Ag9LCva-p1cl",
        "E6MkPsBcp1cl",
        "2cELzS2fp1cl",
        "3MPXvC8up1cl",
        "NC_X3p0fY2L0",
        "UV0SzAkaZNRQ",
        "YPEH6qLeZNRQ",
        "q29F0dvdveiT",
        "EXh0U9oCveiU",
        "22aHeOlLveiV",
        "JcMwzZxoAimU",
        "8G2x9gOozGDZ",
        "gCX9965dhzqZ",
        "gIfDvo9L0UH2"
      ],
      "private_outputs": true,
      "provenance": [],
      "include_colab_link": true
    },
    "kernelspec": {
      "display_name": "Python 3 (ipykernel)",
      "language": "python",
      "name": "python3"
    },
    "language_info": {
      "codemirror_mode": {
        "name": "ipython",
        "version": 3
      },
      "file_extension": ".py",
      "mimetype": "text/x-python",
      "name": "python",
      "nbconvert_exporter": "python",
      "pygments_lexer": "ipython3",
      "version": "3.9.16"
    }
  },
  "nbformat": 4,
  "nbformat_minor": 0
}